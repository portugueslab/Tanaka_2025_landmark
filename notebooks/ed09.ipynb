{
 "cells": [
  {
   "cell_type": "markdown",
   "id": "e71c092b-131e-456a-9d17-a4fae954a2bf",
   "metadata": {},
   "source": [
    "# Extended Data Fig. 9\n",
    "- This notebook analyze the short habenula recordings peformed to determine the habenula laterality."
   ]
  },
  {
   "cell_type": "code",
   "execution_count": 1,
   "id": "aa01f891-13a9-4f4f-9893-f76022869330",
   "metadata": {},
   "outputs": [
    {
     "name": "stderr",
     "output_type": "stream",
     "text": [
      "C:\\Users\\ryosuke\\miniconda3\\envs\\hd_pub\\lib\\site-packages\\numpy\\_distributor_init.py:30: UserWarning: loaded more than 1 DLL from .libs:\n",
      "C:\\Users\\ryosuke\\miniconda3\\envs\\hd_pub\\lib\\site-packages\\numpy\\.libs\\libopenblas.EL2C6PLE4ZYW3ECEVIV3OXXGRN2NRFM2.gfortran-win_amd64.dll\n",
      "C:\\Users\\ryosuke\\miniconda3\\envs\\hd_pub\\lib\\site-packages\\numpy\\.libs\\libopenblas64__v0.3.21-gcc_10_3_0.dll\n",
      "  warnings.warn(\"loaded more than 1 DLL from .libs:\"\n"
     ]
    }
   ],
   "source": [
    "# import packages\n",
    "from utility import *\n",
    "import numpy as np\n",
    "from matplotlib import pyplot as plt\n",
    "from pathlib import Path\n",
    "import flammkuchen as fl\n",
    "import json\n",
    "import colorcet as cc\n",
    "from tqdm import tqdm"
   ]
  },
  {
   "cell_type": "code",
   "execution_count": 2,
   "id": "ce3d7cac-c3f2-4ad8-8d40-1ed49abf7e90",
   "metadata": {},
   "outputs": [],
   "source": [
    "# config matplotlib\n",
    "config_rcparams()"
   ]
  },
  {
   "cell_type": "code",
   "execution_count": 8,
   "id": "d5671c83-667d-4b02-8d23-3db8a1057589",
   "metadata": {},
   "outputs": [],
   "source": [
    "# parameters\n",
    "corr_thresh = 0.3\n",
    "mask_name= 'habenula'"
   ]
  },
  {
   "cell_type": "code",
   "execution_count": 5,
   "id": "4bc5853e-cf1b-425f-a069-c0d021a96e9a",
   "metadata": {},
   "outputs": [],
   "source": [
    "# find habenula recordings\n",
    "fish_list = list(Path('../data/main05').iterdir())\n",
    "rec_list = [fish / 'habenula' for fish in fish_list]"
   ]
  },
  {
   "cell_type": "markdown",
   "id": "2f62db6a-b259-4e60-baff-37f1ff94cca5",
   "metadata": {},
   "source": [
    "# Analysis\n",
    "## Data loading and ROI selection"
   ]
  },
  {
   "cell_type": "code",
   "execution_count": 9,
   "id": "5cac9769-5b84-41ac-91d6-a390e925c62b",
   "metadata": {},
   "outputs": [
    {
     "name": "stderr",
     "output_type": "stream",
     "text": [
      "100%|█████████████████████████████████████████████████████████████████████████████████████████████████████████████████████████████████████████████████| 37/37 [00:03<00:00,  9.82it/s]\n"
     ]
    }
   ],
   "source": [
    "# Loop through all fish\n",
    "data = []\n",
    "\n",
    "for fish in tqdm(rec_list):\n",
    "\n",
    "    # load scan metadata (to get the scale for anatomy visualization)\n",
    "    with open(fish / 'scandata.json', 'r') as f:\n",
    "        zoom = json.load(f)['magnification']\n",
    "    \n",
    "    # Load data\n",
    "    s2p_data, t_i, exp = load_data(fish, cells_only=False)\n",
    "\n",
    "    # Load mask\n",
    "    mask_list = list(fish.glob('mask_'+mask_name+'*'))\n",
    "    with open(mask_list[-1], 'r') as f:\n",
    "        mask = json.load(f)\n",
    "\n",
    "    # Pull out arrays from data structure so it is easier to handle\n",
    "    stack      = s2p_data['anatomy_stack'][0,:,:] # assuming planar scanning\n",
    "    roi_coords = s2p_data['coords']\n",
    "    traces     = s2p_data['traces'][:,:len(t_i)]\n",
    "    norm_traces = ((traces.T - np.median(traces, axis=1))/np.std(traces, axis=1)).T\n",
    "    n_roi = traces.shape[0]\n",
    "\n",
    "    # behavioral / stimulus data\n",
    "    slog = exp['stimulus']['log']\n",
    "    \n",
    "    # Calculate correlation\n",
    "    flash_duration = slog[1]['duration']*2\n",
    "    flash_t_start = [epoch['t_start'] for epoch in slog[1:-1:2]] # first epoch is wait \n",
    "    flash_corr = calc_snip_correlation(norm_traces, t_i, flash_t_start, flash_duration)\n",
    "    consistent = flash_corr > corr_thresh\n",
    "    \n",
    "    # Calculate mean response, just so we can tell ON and OFF cells\n",
    "    f_snip, t_snip = cut_snip(traces, t_i, flash_t_start, 0, flash_duration, subtract_pre=0)\n",
    "    on_resp = np.mean(f_snip[:, :, t_snip<flash_duration/2], axis=(0,2))\n",
    "    off_resp = np.mean(f_snip[:, :, t_snip>=flash_duration/2], axis=(0,2))\n",
    "    diff_resp = on_resp - off_resp\n",
    "    \n",
    "    # anatomical selection\n",
    "    in_mask = (roi_coords[:,2]>mask['x0'])*(roi_coords[:,2]<mask['x1'])*\\\n",
    "              (roi_coords[:,1]>mask['y0'])*(roi_coords[:,1]<mask['y1'])\n",
    "    roix = stack.shape[0] - roi_coords[:,1]\n",
    "    roiy = stack.shape[1] - roi_coords[:,2]\n",
    "\n",
    "    # Categorize ROIs as being on the left or right\n",
    "    midline = (mask['y0']+mask['y1'])/2\n",
    "    n_l_viscell = np.sum(consistent*in_mask*(roix<midline))\n",
    "    n_r_viscell = np.sum(consistent*in_mask*(roix>midline))\n",
    "    if n_l_viscell >= n_r_viscell:\n",
    "        label = 'situs solitus'\n",
    "    else:\n",
    "        label = 'situs invertus'\n",
    "        \n",
    "    # Store data to a library\n",
    "    D = {\n",
    "        'x': roix,\n",
    "        'y': roiy,\n",
    "        'corr': flash_corr,\n",
    "        'diff_resp': diff_resp,\n",
    "        'stack': np.fliplr(np.rot90(stack)),\n",
    "        'in_mask': in_mask,\n",
    "        'consistent': consistent,\n",
    "        'label': label,\n",
    "        'n_viscell': (n_l_viscell, n_r_viscell),\n",
    "        'zoom': zoom\n",
    "        }\n",
    "    data.append(D)"
   ]
  },
  {
   "cell_type": "markdown",
   "id": "44115dde-7f35-4ef3-8081-31d5717a4142",
   "metadata": {},
   "source": [
    "# Panels\n",
    "## Extended Data Fig. 9b (individual examples of fish with typical and inverted habenula)"
   ]
  },
  {
   "cell_type": "code",
   "execution_count": 10,
   "id": "31abb66c-1098-4c6d-be0f-8b97888ff404",
   "metadata": {},
   "outputs": [
    {
     "data": {
      "image/png": "[encoded data removed]",
      "text/plain": [
       "<Figure size 150x140 with 3 Axes>"
      ]
     },
     "metadata": {},
     "output_type": "display_data"
    }
   ],
   "source": [
    "# show one example each of situs solitus and inversus\n",
    "fids = (12, 18)\n",
    "\n",
    "fig, ax = plt.subplots(len(fids), 1, figsize=(1.5, 0.7*len(fids)))\n",
    "for fid, axx, lat in zip(fids, ax, ('typical', 'inverted')):\n",
    "    D = data[fid]\n",
    "    scaled_imshow(D['stack'], ax=axx, cmap='gray_r')\n",
    "    # scale bar\n",
    "    um_per_px = 500 / D['zoom'] / D['stack'].shape[0]\n",
    "    axx.plot((110, 110+10/um_per_px), (300,300), lw=1.5, color='black')\n",
    "    \n",
    "    axx.set_ylim([330, 120])\n",
    "    axx.set_xlim([100, 520])\n",
    "    sc = axx.scatter(D['x'][D['in_mask']], D['y'][D['in_mask']], s=2, c=D['corr'][D['in_mask']],\n",
    "                vmin=0, vmax=0.5, cmap=cc.cm.CET_L19)\n",
    "    axx.axis('off')\n",
    "    axx.set_title(lat)\n",
    "    \n",
    "cb = plt.colorbar(sc, location='right', ax=ax, shrink=0.5)\n",
    "cb.set_label('correlation to flash')\n",
    "\n",
    "plt.savefig('../svg/ed09_b.svg')\n",
    "plt.show()"
   ]
  },
  {
   "cell_type": "code",
   "execution_count": 7,
   "id": "1d7b3452-31b2-4aff-822c-ca22dd5e4312",
   "metadata": {},
   "outputs": [
    {
     "data": {
      "image/png": "[encoded data removed]",
      "text/plain": [
       "<Figure size 150x150 with 1 Axes>"
      ]
     },
     "metadata": {},
     "output_type": "display_data"
    }
   ],
   "source": [
    "n_viscell = np.asarray([D['n_viscell'] for D in data])\n",
    "fig, ax = plt.subplots(1, 1, figsize=(1.5, 1.5))\n",
    "ax.scatter(n_viscell[:,1], n_viscell[:,0], c=(np.diff(n_viscell,axis=1)>2), cmap=cc.cm.CET_D1, s=2)\n",
    "ax.plot([0,45],[0,45],'k--')\n",
    "ax.text(30, 5, 'inverted', color=cc.cm.CET_D1(1.0))\n",
    "ax.set_xlabel('#visual cells on the right')\n",
    "ax.set_ylabel('#visual cells on the left')\n",
    "toggle_spines(ax, 0, 1, 0, 1)\n",
    "\n",
    "plt.savefig('./png/007_002.png')\n",
    "plt.savefig('./svg/007_002.svg')\n",
    "plt.show()"
   ]
  },
  {
   "cell_type": "markdown",
   "id": "c8f195cb-4576-4248-869f-534b57046e3c",
   "metadata": {},
   "source": [
    "## Visualize anatomy stack before and after ablation"
   ]
  },
  {
   "cell_type": "code",
   "execution_count": 27,
   "id": "dc1fc468-d508-43f2-8f86-4f01c6fdf792",
   "metadata": {},
   "outputs": [],
   "source": [
    "## Load data\n",
    "pre_stack_name = r'Z:\\Ryosuke\\E0084_v06b_ablation_batch2\\20241112_f1\\20241112_f1_pre_v99\\zstack\\zstack_153950'\n",
    "post_stack_name = r'Z:\\Ryosuke\\E0084_v06b_ablation_batch2\\20241112_f1\\20241112_f1_pre_v99\\zstack\\zstack_155037'\n",
    "next_day_stack_name = r'Z:\\Ryosuke\\E0084_v06b_ablation_batch2\\20241112_f1\\20241112_f1_pre_v99\\zstack\\zstack_111640'\n",
    "\n",
    "stack_names = (pre_stack_name, post_stack_name, next_day_stack_name)\n",
    "stacks = []\n",
    "mags = []\n",
    "z_thickness = []\n",
    "\n",
    "# loop through the files\n",
    "for name in stack_names:\n",
    "    # load stacks\n",
    "    stacks.append(fl.load(name+'.h5')['stack_4D'][0, :, :, :])\n",
    "    # load magnifications (they are the same, but just to make sure...)\n",
    "    with open(name + '_scandata.json') as f:\n",
    "        scandata = json.load(f)\n",
    "        mags.append(scandata['magnification'])\n",
    "        z_thickness.append(scandata['_zstack_thickness'])\n",
    "\n"
   ]
  },
  {
   "cell_type": "code",
   "execution_count": 30,
   "id": "587275ac-7ea5-4dcb-b686-a46dc4013428",
   "metadata": {},
   "outputs": [
    {
     "name": "stdout",
     "output_type": "stream",
     "text": [
      "[7.0, 7.0, 7.0]\n",
      "[1.0, 1.0, 1.0]\n",
      "0.14547570555717196\n"
     ]
    }
   ],
   "source": [
    "print(mags)\n",
    "print(z_thickness)\n",
    "nominal_image_width = 500 / mags[0]\n",
    "micron_per_px = nominal_image_width / stacks[0].shape[2]\n",
    "print(micron_per_px)"
   ]
  },
  {
   "cell_type": "code",
   "execution_count": 35,
   "id": "c0652fd1-4b48-42ec-a608-d3616a01598c",
   "metadata": {},
   "outputs": [],
   "source": [
    "def rotinv(im):\n",
    "    return np.rot90(np.flipud(im))"
   ]
  },
  {
   "cell_type": "code",
   "execution_count": 84,
   "id": "d47f30e9-bd64-46be-9bae-3f8d95af925e",
   "metadata": {},
   "outputs": [
    {
     "data": {
      "image/png": "[encoded data removed]",
      "text/plain": [
       "<Figure size 210x180 with 4 Axes>"
      ]
     },
     "metadata": {},
     "output_type": "display_data"
    }
   ],
   "source": [
    "fig, ax = plt.subplots(2, 2, figsize=(2.1,1.8))\n",
    "k=0\n",
    "labels = ('pre', 'post', '1 day')\n",
    "for stack in stacks:\n",
    "    scaled_imshow(rotinv(np.percentile(stack[:100,:,:], 95, axis=0))[:, 30:], cmap='gray_r', ax=ax[k//2, k%2], levelrange=(10,95))\n",
    "    ax[k//2, k%2].text(30, 70, labels[k])\n",
    "    k+=1\n",
    "ax[0,0].plot((30 + 0, 30 + 10/micron_per_px),(400, 400), lw=1.5, color='black')\n",
    "for axx in ax:\n",
    "    for axxx in axx:\n",
    "        axxx.axis('off')\n",
    "\n",
    "plt.savefig('./png/007_003.png')\n",
    "plt.savefig('./svg/007_003.svg')\n",
    "plt.show()"
   ]
  },
  {
   "cell_type": "code",
   "execution_count": null,
   "id": "1847681a-060f-4232-a9ec-c96e7dd5acfb",
   "metadata": {},
   "outputs": [],
   "source": []
  }
 ],
 "metadata": {
  "kernelspec": {
   "display_name": "hd_pub_01",
   "language": "python",
   "name": "hd_pub_01"
  },
  "language_info": {
   "codemirror_mode": {
    "name": "ipython",
    "version": 3
   },
   "file_extension": ".py",
   "mimetype": "text/x-python",
   "name": "python",
   "nbconvert_exporter": "python",
   "pygments_lexer": "ipython3",
   "version": "3.10.15"
  }
 },
 "nbformat": 4,
 "nbformat_minor": 5
}
