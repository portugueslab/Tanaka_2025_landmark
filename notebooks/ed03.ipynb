{
 "cells": [
  {
   "cell_type": "markdown",
   "id": "dc99f836-861d-48bd-81ad-f5fb90049006",
   "metadata": {},
   "source": [
    "# Extended Data Fig. 3\n",
    "- This experiment tests whether the observed (putative) HD cell bumps move as fish make turns, even without visual feedback of rotation\n",
    "- The experiment start with open-loop presentaiton of flashes and optic flow\n",
    "    - We reject cells that responded reliably to these stimuli\n",
    "- Next, we present visual scenes so we can identify HD cells. Finally, we present side-stepping translational optic flow that disappears as fish swims.\n",
    "- This notebook generates panels for **Extended Data Fig. 3c-f**."
   ]
  },
  {
   "cell_type": "code",
   "execution_count": 1,
   "id": "c3eda5eb-44a0-484e-9287-8d0badc7a1b2",
   "metadata": {},
   "outputs": [
    {
     "name": "stderr",
     "output_type": "stream",
     "text": [
      "C:\\Users\\ryosuke\\miniconda3\\envs\\hd_pub\\lib\\site-packages\\numpy\\_distributor_init.py:30: UserWarning: loaded more than 1 DLL from .libs:\n",
      "C:\\Users\\ryosuke\\miniconda3\\envs\\hd_pub\\lib\\site-packages\\numpy\\.libs\\libopenblas.EL2C6PLE4ZYW3ECEVIV3OXXGRN2NRFM2.gfortran-win_amd64.dll\n",
      "C:\\Users\\ryosuke\\miniconda3\\envs\\hd_pub\\lib\\site-packages\\numpy\\.libs\\libopenblas64__v0.3.21-gcc_10_3_0.dll\n",
      "  warnings.warn(\"loaded more than 1 DLL from .libs:\"\n"
     ]
    }
   ],
   "source": [
    "from utility import *\n",
    "import numpy as np\n",
    "from matplotlib import pyplot as plt\n",
    "from pathlib import Path\n",
    "import flammkuchen as fl\n",
    "from scipy.stats import wilcoxon\n",
    "from scipy.signal import convolve2d\n",
    "import json\n",
    "from tqdm import tqdm\n",
    "import colorcet as cc"
   ]
  },
  {
   "cell_type": "code",
   "execution_count": 2,
   "id": "371a5408-f1a2-48dd-840e-5e63677d19d3",
   "metadata": {},
   "outputs": [],
   "source": [
    "# configure matplotlib\n",
    "config_rcparams()"
   ]
  },
  {
   "cell_type": "code",
   "execution_count": 3,
   "id": "af0db7e6-e62d-4eb6-b2a6-38c0b293c260",
   "metadata": {},
   "outputs": [],
   "source": [
    "## Analysis parameters\n",
    "\n",
    "# ROI selection criteira\n",
    "R2_thresh = 0.15\n",
    "probe_thresh = 0.1\n",
    "\n",
    "# binning of HD cells\n",
    "n_heading_bin = 8\n",
    "\n",
    "# bout related\n",
    "min_bout_dt = 5 # we only consider bouts separated from each other by this many seconds\n",
    "nan_thresh = 0.1 # we ignore bouts with this many failed tail tracking frames\n",
    "deg_thresh = 2.0*np.pi / 3.0 # we rejects bouts bigger than this many radian\n",
    "\n",
    "mask_name = 'rhombomere1'\n",
    "\n",
    "# define relevant time windows\n",
    "dur_bout_pre = 1\n",
    "dur_bout_post = 2.1\n",
    "probe_duration = 8\n",
    "probe_rep = 5"
   ]
  },
  {
   "cell_type": "code",
   "execution_count": 10,
   "id": "1f9896c9-4cb9-4486-8da6-608599bc8493",
   "metadata": {},
   "outputs": [],
   "source": [
    "# get a list of fish\n",
    "data_path = '../data/ed03'\n",
    "fish_list = get_fish_list(data_path, silent=True)\n",
    "\n",
    "# because in this experiment we made multiple recordings from a single fish, we need\n",
    "# a nested analysis\n",
    "nested_list = nest_fish_list_per_fish(fish_list)"
   ]
  },
  {
   "cell_type": "markdown",
   "id": "55deccb6-07a2-475f-9a8c-23bc53a39f7b",
   "metadata": {},
   "source": [
    "# Analysis\n",
    "## Data extraction and ROI selection\n",
    "- loop through the recordings, load data\n",
    "- register relevant behavioral/physiological data into dict"
   ]
  },
  {
   "cell_type": "code",
   "execution_count": 12,
   "id": "540b67aa-4310-47b2-a4d1-f86b217fd226",
   "metadata": {},
   "outputs": [
    {
     "name": "stdout",
     "output_type": "stream",
     "text": [
      "..\\data\\ed03\\20231205_f0_v8_fixed Found 11 good ROIs out of 164\n",
      "..\\data\\ed03\\20231205_f1_v8 Found 9 good ROIs out of 125\n",
      "..\\data\\ed03\\20231205_f2_v8 Found 5 good ROIs out of 154\n",
      "..\\data\\ed03\\20231205_f3_v8 Found 22 good ROIs out of 131\n",
      "..\\data\\ed03\\20231206_f0_v8 Found 33 good ROIs out of 163\n",
      "..\\data\\ed03\\20231206_f1_v8 Found 7 good ROIs out of 157\n",
      "..\\data\\ed03\\20231206_f2_v8 Found 13 good ROIs out of 136\n",
      "..\\data\\ed03\\20231206_f3_v8 Found 14 good ROIs out of 124\n",
      "..\\data\\ed03\\20231206_f4_v8 Found 1 good ROIs out of 130\n",
      "..\\data\\ed03\\20231206_f5_v8 Found 15 good ROIs out of 151\n",
      "..\\data\\ed03\\20231206_f6_v8 Found 0 good ROIs out of 106\n",
      "..\\data\\ed03\\20231207_f0_v8 Found 22 good ROIs out of 136\n",
      "..\\data\\ed03\\20231207_f1_v8 Found 3 good ROIs out of 130\n",
      "..\\data\\ed03\\20231207_f2_v8 Found 35 good ROIs out of 166\n",
      "..\\data\\ed03\\20231207_f3_v8 Found 15 good ROIs out of 127\n",
      "..\\data\\ed03\\20231207_f4_v8 Found 18 good ROIs out of 122\n",
      "..\\data\\ed03\\20231207_f5_v8 Found 32 good ROIs out of 139\n",
      "..\\data\\ed03\\20231207_f6_v8 Found 6 good ROIs out of 133\n",
      "..\\data\\ed03\\20240215_f0_gad1_84_v8 Found 0 good ROIs out of 0\n",
      "..\\data\\ed03\\20240215_f1_gad1_84_v8 Found 8 good ROIs out of 103\n",
      "..\\data\\ed03\\20240215_f1_gad1_84_v8_p2_15um Found 1 good ROIs out of 141\n",
      "..\\data\\ed03\\20240215_f2_gad1_84_v8 Found 0 good ROIs out of 95\n",
      "..\\data\\ed03\\20240215_f2_gad1_84_v8_p2_15um Found 0 good ROIs out of 138\n",
      "..\\data\\ed03\\20240215_f3_gad1_84_v8 Found 13 good ROIs out of 139\n",
      "..\\data\\ed03\\20240215_f3_gad1_84_v8_p2 Found 8 good ROIs out of 142\n",
      "..\\data\\ed03\\20240215_f4_gad1_84_v8 Found 1 good ROIs out of 125\n",
      "..\\data\\ed03\\20240215_f4_gad1_84_v8_p2_15um Found 0 good ROIs out of 118\n",
      "..\\data\\ed03\\20240216_f0_v8 Found 5 good ROIs out of 160\n",
      "..\\data\\ed03\\20240216_f0_v8_p2_10um Found 4 good ROIs out of 163\n",
      "..\\data\\ed03\\20240216_f1_v8 Found 5 good ROIs out of 137\n",
      "..\\data\\ed03\\20240216_f2_v8 Found 12 good ROIs out of 170\n",
      "..\\data\\ed03\\20240216_f3_v8 Found 4 good ROIs out of 127\n",
      "..\\data\\ed03\\20240216_f4_v8 Found 30 good ROIs out of 159\n",
      "..\\data\\ed03\\20240223_f0_v8b_2 Found 18 good ROIs out of 124\n",
      "..\\data\\ed03\\20240223_f1_v8b Found 10 good ROIs out of 159\n",
      "..\\data\\ed03\\20240223_f2_v8b Found 24 good ROIs out of 138\n",
      "..\\data\\ed03\\20240223_f3_v8b Found 14 good ROIs out of 137\n",
      "..\\data\\ed03\\20240224_f0_v8b_copy Found 10 good ROIs out of 126\n",
      "..\\data\\ed03\\20240224_f1_v8b Found 9 good ROIs out of 126\n",
      "..\\data\\ed03\\20240224_f2_v8b Found 12 good ROIs out of 129\n",
      "..\\data\\ed03\\20240224_f3_v8b Found 29 good ROIs out of 156\n",
      "..\\data\\ed03\\20240224_f4_v8b Found 23 good ROIs out of 157\n",
      "..\\data\\ed03\\20240224_f5_v8b Found 25 good ROIs out of 129\n",
      "..\\data\\ed03\\20240224_f6_v8b Found 16 good ROIs out of 118\n"
     ]
    }
   ],
   "source": [
    "data = []\n",
    "\n",
    "# Go through all unique fish\n",
    "for fish_id, recording_list in enumerate(nested_list):\n",
    "    data.append([])\n",
    "    \n",
    "    # Go through all recordings\n",
    "    for recording in recording_list:\n",
    "        # If this particular recordings has a required mask, we analyze it\n",
    "        mask_list = list(recording.glob('mask_'+mask_name+'*'))\n",
    "        with open(mask_list[-1], 'r') as f:\n",
    "            mask = json.load(f)\n",
    "        \n",
    "        #################\n",
    "        ### Load data ###\n",
    "        #################\n",
    "        \n",
    "        s2p_data, t_i, exp = load_data(recording, cells_only=False)\n",
    "        roi_coords = s2p_data['coords']\n",
    "        slog = exp['stimulus']['log']\n",
    "        t_s = exp.stimulus_log['t'].to_numpy()\n",
    "        theta = exp.stimulus_log['cl2D_theta'].to_numpy()\n",
    "        theta_i = downsample_traces(t_s, theta, t_i)\n",
    "        \n",
    "        # restrict rois by mask (do this before functional selection to reduce the time-consuming nonlinear curve fitting)\n",
    "        in_mask = (roi_coords[:, 2] > mask['x0']) * (roi_coords[:, 2] < mask['x1']) * (roi_coords[:, 1] > mask['y0']) * (roi_coords[:, 1] < mask['y1'])\n",
    "        traces = s2p_data['traces'][in_mask,:len(t_i)]\n",
    "        norm_traces = ((traces.T - np.median(traces, axis=1))/np.std(traces, axis=1)).T\n",
    "        smoothed_traces = convolve2d(norm_traces, np.ones((1,5))/5, mode='same')\n",
    "        roi_coords = roi_coords[in_mask, :]\n",
    "        n_roi = traces.shape[0]\n",
    "        \n",
    "        #####################\n",
    "        ### ROI selection ###\n",
    "        #####################\n",
    "        \n",
    "        # Reject ROI with high flash and optic flow correlation\n",
    "        flash_t_start = [epoch['t_start'] for epoch in slog[1:2*probe_rep:2]] # first epoch is wait, last two epochs are sun-and-bars and darkness. \n",
    "        of_t_start = [epoch['t_start'] for epoch in slog[11:4*probe_rep:2]] \n",
    "        flash_corr = calc_snip_correlation(norm_traces, t_i, flash_t_start, probe_duration)\n",
    "        of_corr = calc_snip_correlation(norm_traces, t_i, of_t_start, probe_duration)\n",
    "\n",
    "        # Sinusoidal regression -- use the entire first epoch\n",
    "        is_valid_theta = (np.isnan(theta_i)==False) * (t_i < slog[-1]['t_start'])\n",
    "        fit_param, _, R2 = fit_transform_sinusoid(smoothed_traces[:, is_valid_theta], theta_i[is_valid_theta])\n",
    "        \n",
    "        # do the selection\n",
    "        good_fit = (R2 > R2_thresh) * (flash_corr < probe_thresh) * (of_corr < probe_thresh)\n",
    "        print(recording, 'Found', np.sum(good_fit), 'good ROIs out of', n_roi )\n",
    "        \n",
    "        ### Save everything in a dictionary ###\n",
    "        D = {'stack': s2p_data['anatomy_stack'][0,:,:],\n",
    "             'slog': slog,\n",
    "             't_s': t_s,\n",
    "             't_b': exp.behavior_log['t'].to_numpy(),\n",
    "             'fish_theta': exp.stimulus_log['cl2D_fish_theta'].to_numpy(),\n",
    "             'theta_update_spike': exp.stimulus_log['cl2D_start_theta_update'].to_numpy(),\n",
    "             'tail_sum': exp.behavior_log['tail_sum'].to_numpy(),\n",
    "             'star_direction': exp.stimulus_log['cl2D_starfield_direction'].to_numpy(),\n",
    "             't_i': t_i,\n",
    "             'theta_i': theta_i,\n",
    "             'traces': smoothed_traces[good_fit, :],\n",
    "             'fit_param': fit_param[good_fit,:],\n",
    "             'coords': roi_coords[good_fit, :]}\n",
    "        data[-1].append(D)"
   ]
  },
  {
   "cell_type": "markdown",
   "id": "e0780d63-9b73-4c30-b4fe-8ac6cc434602",
   "metadata": {},
   "source": [
    "## Additional recording-wise analysis"
   ]
  },
  {
   "cell_type": "code",
   "execution_count": 13,
   "id": "05d210be-4cd5-45df-ab6c-227c9d71ceee",
   "metadata": {},
   "outputs": [
    {
     "name": "stdout",
     "output_type": "stream",
     "text": [
      "Fish 0-0, empty bin 4, total 206, selected 31 bouts\n",
      "Fish 1-0, empty bin 5, total 152, selected 31 bouts\n"
     ]
    },
    {
     "name": "stderr",
     "output_type": "stream",
     "text": [
      "C:\\Users\\ryosuke\\AppData\\Local\\Temp\\ipykernel_18792\\289450751.py:45: FutureWarning: `rcond` parameter will change to the default of machine precision times ``max(M, N)`` where M and N are the input matrix dimensions.\n",
      "To use the future default and silence this warning we advise to pass `rcond=None`, to keep using the old, explicitly pass `rcond=-1`.\n",
      "  b = np.linalg.lstsq(bias_dark[good_bout][:,None], pva_at_the_snip_end)[0]\n"
     ]
    },
    {
     "name": "stdout",
     "output_type": "stream",
     "text": [
      "Fish 2-0, empty bin 5, total 126, selected 30 bouts\n",
      "Fish 3-0, empty bin 4, total 105, selected 22 bouts\n",
      "Fish 4-0, empty bin 1, total 68, selected 40 bouts\n",
      "Fish 5-0, empty bin 5, total 77, selected 41 bouts\n",
      "Fish 6-0, empty bin 3, total 140, selected 34 bouts\n",
      "Fish 7-0, empty bin 4, total 137, selected 33 bouts\n",
      "Fish 8-0, empty bin 7, total 130, selected 20 bouts\n",
      "Fish 9-0, empty bin 3, total 84, selected 26 bouts\n",
      "Fish 10-0, empty bin 8, total 36, selected 13 bouts\n",
      "Fish 11-0, empty bin 3, total 39, selected 15 bouts\n",
      "Fish 12-0, empty bin 6, total 49, selected 38 bouts\n",
      "Fish 13-0, empty bin 0, total 105, selected 50 bouts\n"
     ]
    },
    {
     "name": "stderr",
     "output_type": "stream",
     "text": [
      "C:\\Users\\ryosuke\\Documents\\manuscripts\\landmark\\code_public\\notebooks\\utility.py:221: RuntimeWarning: invalid value encountered in divide\n",
      "  PVA /= len(np.unique(phi_ind))\n",
      "C:\\Users\\ryosuke\\AppData\\Local\\Temp\\ipykernel_18792\\289450751.py:59: RuntimeWarning: Mean of empty slice\n",
      "  data[i][j]['mean_absolute_offset'] = np.nanmean(np.abs(vr_pva_offset[is_stonehenge]))\n",
      "C:\\Users\\ryosuke\\miniconda3\\envs\\hd_pub\\lib\\site-packages\\numpy\\core\\fromnumeric.py:3464: RuntimeWarning: Mean of empty slice.\n",
      "  return _methods._mean(a, axis=axis, dtype=dtype,\n",
      "C:\\Users\\ryosuke\\miniconda3\\envs\\hd_pub\\lib\\site-packages\\numpy\\core\\_methods.py:192: RuntimeWarning: invalid value encountered in scalar divide\n",
      "  ret = ret.dtype.type(ret / rcount)\n"
     ]
    },
    {
     "name": "stdout",
     "output_type": "stream",
     "text": [
      "Fish 14-0, empty bin 1, total 47, selected 31 bouts\n",
      "Fish 15-0, empty bin 2, total 85, selected 54 bouts\n",
      "Fish 16-0, empty bin 2, total 43, selected 20 bouts\n",
      "Fish 17-0, empty bin 5, total 117, selected 39 bouts\n",
      "Fish 18-0, empty bin 8, total 53, selected 7 bouts\n",
      "Fish 19-0, empty bin 4, total 86, selected 35 bouts\n",
      "Fish 19-1, empty bin 7, total 74, selected 26 bouts\n",
      "Fish 20-0, empty bin 8, total 43, selected 1 bouts\n",
      "Fish 20-1, empty bin 8, total 46, selected 0 bouts\n",
      "Fish 21-0, empty bin 3, total 123, selected 35 bouts\n",
      "Fish 21-1, empty bin 3, total 41, selected 21 bouts\n",
      "Fish 22-0, empty bin 7, total 66, selected 9 bouts\n",
      "Fish 22-1, empty bin 8, total 62, selected 6 bouts\n",
      "Fish 23-0, empty bin 5, total 112, selected 42 bouts\n",
      "Fish 23-1, empty bin 5, total 142, selected 47 bouts\n",
      "Fish 24-0, empty bin 5, total 26, selected 3 bouts\n",
      "Fish 25-0, empty bin 4, total 87, selected 40 bouts\n",
      "Fish 26-0, empty bin 5, total 62, selected 12 bouts\n",
      "Fish 27-0, empty bin 0, total 58, selected 50 bouts\n",
      "Fish 28-0, empty bin 0, total 104, selected 38 bouts\n",
      "Fish 29-0, empty bin 5, total 24, selected 6 bouts\n",
      "Fish 30-0, empty bin 1, total 134, selected 22 bouts\n",
      "Fish 31-0, empty bin 4, total 34, selected 6 bouts\n",
      "Fish 32-0, empty bin 4, total 139, selected 30 bouts\n",
      "Fish 33-0, empty bin 3, total 65, selected 39 bouts\n",
      "Fish 34-0, empty bin 2, total 48, selected 23 bouts\n",
      "Fish 35-0, empty bin 1, total 69, selected 15 bouts\n",
      "Fish 36-0, empty bin 0, total 70, selected 36 bouts\n",
      "Fish 37-0, empty bin 2, total 52, selected 17 bouts\n",
      "Fish 38-0, empty bin 2, total 64, selected 15 bouts\n"
     ]
    }
   ],
   "source": [
    "for i, fish_data in enumerate(data):\n",
    "    for j, D in enumerate(fish_data):\n",
    "        \n",
    "        # Calculate \"bump phase\" (population vector average angle) with binning\n",
    "        pva_theta, pva_length, binned_traces, _, _ = calc_binned_pva(D['traces'], D['fit_param'][:,1], n_bin=n_heading_bin)\n",
    "        data[i][j]['pva_theta'] = pva_theta\n",
    "        data[i][j]['pva_length'] = pva_length\n",
    "        data[i][j]['binned_traces'] = binned_traces\n",
    "        n_empty_bin = np.sum(np.isnan(binned_traces[:, 0]))\n",
    "        \n",
    "        ### Bias-bump phase change correlation in the sidestep epoch ###\n",
    "        # First get bias (don't take one too close to the end of the experiment)\n",
    "        bout_ind_dark = np.where(D['theta_update_spike'] * (D['t_s']>D['slog'][-1]['t_start']) * (D['t_s']<max(D['t_s'])-dur_bout_post))[0]\n",
    "        t_bout_dark = D['t_s'][bout_ind_dark]\n",
    "        bias_dark = D['fish_theta'][bout_ind_dark]\n",
    "        \n",
    "        # Only keep isoldated, not-too-big ones without too many NaNs\n",
    "        dt_bout_dark = np.diff(t_bout_dark)\n",
    "        is_isolated = np.append(True, dt_bout_dark>min_bout_dt) * np.append(dt_bout_dark>min_bout_dt, True)\n",
    "        \n",
    "        nan_frac = []\n",
    "        for t in t_bout_dark:\n",
    "            inds = (D['t_b']>=t - 0.07) * (D['t_b']<t)\n",
    "            nan_frac.append(np.mean(np.isnan(D['tail_sum'][inds])))\n",
    "        nan_frac = np.asarray(nan_frac)\n",
    "\n",
    "        not_too_big = (np.abs(bias_dark)<deg_thresh)\n",
    "        good_tracked = (nan_frac < nan_thresh)\n",
    "        good_bout = is_isolated * not_too_big * good_tracked\n",
    "        \n",
    "        print('Fish {0}-{1}, empty bin {2}, total {3}, selected {4} bouts'.format(\n",
    "               i, j, n_empty_bin,\n",
    "               len(good_bout), \n",
    "               np.sum(good_bout)))\n",
    "        \n",
    "        # We only consider recordings that had more than 5 good bouts & less than 5 empty bins\n",
    "        good_rec_flag = (n_empty_bin<5) * (np.sum(good_bout)>5)\n",
    "        data[i][j]['good_rec_flag'] = good_rec_flag\n",
    "        \n",
    "        # Get neural heading snip & calculate correlation / slope\n",
    "        if good_rec_flag:\n",
    "            peri_dark_bout_pva_angle, t_snip = cut_snip(np.unwrap(pva_theta), D['t_i'], t_bout_dark[good_bout], dur_bout_pre, dur_bout_post)\n",
    "            pva_at_the_snip_end = np.mean(peri_dark_bout_pva_angle[:,t_snip>(dur_bout_post-1)], axis=1)\n",
    "            C = np.corrcoef(bias_dark[good_bout], pva_at_the_snip_end)\n",
    "            b = np.linalg.lstsq(bias_dark[good_bout][:,None], pva_at_the_snip_end)[0]\n",
    "            data[i][j]['bias_good_bout'] = bias_dark[good_bout]\n",
    "            data[i][j]['peri_bout_pva'] = peri_dark_bout_pva_angle\n",
    "            data[i][j]['bias_pva_correlation'] = C[0,1]\n",
    "            data[i][j]['bias_pva_slope'] = b[0] \n",
    "        else:\n",
    "            data[i][j]['bias_good_bout'] = np.nan\n",
    "            data[i][j]['peri_bout_pva'] = np.nan\n",
    "            data[i][j]['bias_pva_correlation'] = np.nan\n",
    "            data[i][j]['bias_pva_slope'] = np.nan\n",
    "            \n",
    "        # Quality measures (in the end we are not using this)\n",
    "        vr_pva_offset = angular_diff(D['theta_i'], pva_theta)\n",
    "        is_stonehenge = (D['t_i']>D['slog'][-2]['t_start']) * (D['t_i']<D['slog'][-1]['t_start'])\n",
    "        data[i][j]['mean_absolute_offset'] = np.nanmean(np.abs(vr_pva_offset[is_stonehenge]))\n",
    "        data[i][j]['n_good_cells'] = D['fit_param'].shape[0]\n",
    "        data[i][j]['mean_tuning_length'] = np.sqrt(np.mean(np.cos(D['fit_param'][:,1]))**2 + np.mean(np.sin(D['fit_param'][:,1]))**2)\n",
    "        data[i][j]['n_good_bouts'] = np.sum(good_bout)"
   ]
  },
  {
   "cell_type": "markdown",
   "id": "40a902cd-0f75-4fca-9f41-2045bdf0f239",
   "metadata": {},
   "source": [
    "# Panels\n",
    "## Extended Data Fig. 3c (individual example)"
   ]
  },
  {
   "cell_type": "code",
   "execution_count": 14,
   "id": "dadf7384-8ce2-4f8e-9a6a-7cf7ed9c69fe",
   "metadata": {},
   "outputs": [],
   "source": [
    "# Define the recording to look at\n",
    "fid = 16\n",
    "rid = 0\n",
    "D = data[fid][rid]"
   ]
  },
  {
   "cell_type": "code",
   "execution_count": 15,
   "id": "ee875fc5-f022-4f6e-93a6-1fc5ed145a9e",
   "metadata": {},
   "outputs": [],
   "source": [
    "# visualization parameters\n",
    "max_bias = np.pi/4\n",
    "bias_thresh = 0.2"
   ]
  },
  {
   "cell_type": "code",
   "execution_count": 16,
   "id": "737e82de-eef8-4a5a-a834-8bf02c86f42e",
   "metadata": {},
   "outputs": [
    {
     "data": {
      "image/png": "[encoded data removed]",
      "text/plain": [
       "<Figure size 500x250 with 3 Axes>"
      ]
     },
     "metadata": {},
     "output_type": "display_data"
    }
   ],
   "source": [
    "fig, ax = plt.subplots(3, 1, figsize=(5,2.5), height_ratios=(2,1,4))\n",
    "\n",
    "## Behavioral time trace\n",
    "# Figure out optic flow directions\n",
    "star_on = np.abs(D['star_direction'])\n",
    "t_star_onset = [D['t_s'][i] for i in np.where(np.diff(star_on)==1)[0]]\n",
    "t_star_offset = [D['t_s'][i] for i in np.where(np.diff(star_on)==-1)[0] if D['t_s'][i]<max(t_i)]\n",
    "star_direction = [D['star_direction'][i+1] for i in np.where(np.diff(star_on)==1)[0]]\n",
    "\n",
    "# plot optic flow direction\n",
    "for ton, toff, sign in zip(t_star_onset, t_star_offset, star_direction):\n",
    "    ax[0].fill_between([ton, toff],[-np.pi, -np.pi],[np.pi, np.pi],edgecolor='none', facecolor=((1+sign)/2, 0, -(sign-1)/2), alpha=0.5, zorder=-10)\n",
    "\n",
    "# tail trace\n",
    "ax[0].plot(D['t_b'], D['tail_sum'], label='tail sum', lw=1, color='black')\n",
    "\n",
    "# axis management\n",
    "ax[0].set_xlim(0, max(t_i))\n",
    "ax[0].set_ylabel('tail (rad)', rotation=0)\n",
    "ax[0].set_title('fish #{} recording #{}'.format(fid,rid))\n",
    "toggle_spines(ax[0],0,0,0,1)\n",
    "\n",
    "## visualize external rotation\n",
    "t_start = D['slog'][-2]['t_start']\n",
    "t_end = D['slog'][-1]['t_start']\n",
    "OL_on = (((D['t_i']-t_start)%30)>25) * (D['t_i']>t_start) * (D['t_i']<t_end)\n",
    "OL_sign = 1-2*(((D['t_i']-t_start)%240)>120)\n",
    "ax[1].plot(D['t_i'], OL_on*OL_sign*18/180*np.pi,'y-')\n",
    "ax[1].set_xlim(0, max(t_i))\n",
    "ax[1].set_ylabel(r'$\\omega_{ext}$ (rad/s)',rotation=0)\n",
    "toggle_spines(ax[1],0,0,0,1)\n",
    "\n",
    "## Neural time trace (heatmap)\n",
    "ax[2].imshow(D['binned_traces'][::-1, :], aspect='auto', interpolation='nearest', vmax=2, vmin=-2, extent=(0, max(D['t_i']), -np.pi, np.pi), cmap='Blues')\n",
    "ax[2].plot(D['t_i'], wrapped(np.unwrap(D['pva_theta']), offset=np.pi), 'y-', linewidth=1, label='bump phase')\n",
    "ax[2].plot(D['t_i'], wrapped(D['theta_i'], offset=np.pi), 'k-', linewidth=1, label=r'$\\theta$')\n",
    "for j in range(2):\n",
    "    ax[2].plot((D['slog'][-j-1]['t_start'], D['slog'][-j-1]['t_start']),(-np.pi,np.pi),'w--')\n",
    "ax[2].set_yticks([-np.pi/2, 0, np.pi/2])\n",
    "ax[2].set_yticklabels((r'-$\\pi/2$', '0', r'$\\pi/2$'))\n",
    "ax[2].set_ylabel('b (rad)', rotation=0)\n",
    "ax[2].set_xlabel('time (s)')\n",
    "ax[2].legend()\n",
    "\n",
    "plt.savefig('../svg/ed03_c.svg')\n",
    "plt.show()"
   ]
  },
  {
   "cell_type": "markdown",
   "id": "38749664-a56c-4335-982f-1db0cd5b7a54",
   "metadata": {},
   "source": [
    "## Extended Data Fig. 3d, e (bump phase change at each bout)"
   ]
  },
  {
   "cell_type": "code",
   "execution_count": 17,
   "id": "58f93457-9506-4759-8e49-31941f33f3c1",
   "metadata": {},
   "outputs": [
    {
     "data": {
      "image/png": "[encoded data removed]",
      "text/plain": [
       "<Figure size 340x170 with 2 Axes>"
      ]
     },
     "metadata": {},
     "output_type": "display_data"
    }
   ],
   "source": [
    "fig, ax = plt.subplots(1, 2, figsize=(3.4,1.7))\n",
    "\n",
    "## Bump phase change time trace around bouts\n",
    "# individual bout, color coded by bias\n",
    "for this_bias, this_pva in zip(D['bias_good_bout'], D['peri_bout_pva']):\n",
    "    norm_bias = (max(-1, min(+1, (this_bias / max_bias)))+1)/2\n",
    "    ax[0].plot(t_snip, this_pva, color=cc.cm.CET_D4(norm_bias), alpha=0.3, lw=1)\n",
    "    \n",
    "# calculate average by directions, and plot\n",
    "mean_right = np.mean(D['peri_bout_pva'][D['bias_good_bout']>bias_thresh, :], axis=0)\n",
    "mean_left = np.mean(D['peri_bout_pva'][D['bias_good_bout']<-bias_thresh, :], axis=0)\n",
    "ax[0].plot(t_snip, mean_right, color=cc.cm.CET_D4(1.0), lw=2, label='right')\n",
    "ax[0].plot(t_snip, mean_left, color=cc.cm.CET_D4(0.0), lw=2, label='left')\n",
    "\n",
    "# axis management\n",
    "ax[0].plot(t_snip, 0*t_snip, 'k--')\n",
    "ax[0].plot((0,0), (-1.5,2), 'k--')\n",
    "ax[0].legend()\n",
    "ax[0].set_xlabel('time from bout (s)')\n",
    "ax[0].set_ylabel('bump phase change (rad)')\n",
    "toggle_spines(ax[0],0,1,0,1)\n",
    "\n",
    "## Bump phase change vs bias scatter (with regression line)\n",
    "ax[1].scatter(D['bias_good_bout'], D['peri_bout_pva'][:, -1], s= 10, color=color_getter(0), alpha=0.5)\n",
    "ax[1].plot((-deg_thresh,deg_thresh),(0,0),'k--')\n",
    "ax[1].plot((-deg_thresh,deg_thresh), (-deg_thresh*D['bias_pva_slope'], deg_thresh*D['bias_pva_slope']), lw=2, color=color_getter(0))\n",
    "ax[1].plot((0,0),(-1.5,2),'k--')\n",
    "ax[1].text(-1.8, -0.5,'r = {:0.2}\\nslope = {:0.2}'.format(D['bias_pva_correlation'], D['bias_pva_slope']), color=color_getter(0))\n",
    "ax[1].set_xlabel('bout bias (rad)')\n",
    "ax[1].set_ylabel('bump phase change (rad)')\n",
    "toggle_spines(ax[1],0,1,0,1)\n",
    "\n",
    "plt.savefig('../svg/ed03_de.svg')\n",
    "plt.show()"
   ]
  },
  {
   "cell_type": "markdown",
   "id": "6501c48b-aedc-4baf-915a-e12164847252",
   "metadata": {},
   "source": [
    "## Extended Data Fig. 3f (population plot of slope and correlation)\n",
    "- There is only one fish that had two good recordings. I will just arithmetically average the results from the two planes."
   ]
  },
  {
   "cell_type": "code",
   "execution_count": 19,
   "id": "b7fb2e52-2bea-4dc1-b9a6-c09ad01b3d3e",
   "metadata": {},
   "outputs": [
    {
     "name": "stderr",
     "output_type": "stream",
     "text": [
      "C:\\Users\\ryosuke\\AppData\\Local\\Temp\\ipykernel_18792\\2137177570.py:12: RuntimeWarning: Mean of empty slice\n",
      "  all_r.append(np.nanmean(this_r))\n",
      "C:\\Users\\ryosuke\\AppData\\Local\\Temp\\ipykernel_18792\\2137177570.py:13: RuntimeWarning: Mean of empty slice\n",
      "  all_b.append(np.nanmean(this_b))\n"
     ]
    }
   ],
   "source": [
    "# concatenate correlation and slope across fish\n",
    "\n",
    "all_r = []\n",
    "all_b = []\n",
    "for i, fish_data in enumerate(data):\n",
    "    this_r = []\n",
    "    this_b = []\n",
    "    for j, D in enumerate(fish_data):\n",
    "        if D['good_rec_flag']:\n",
    "            this_r.append(D['bias_pva_correlation'])\n",
    "            this_b.append(D['bias_pva_slope'])\n",
    "    all_r.append(np.nanmean(this_r))\n",
    "    all_b.append(np.nanmean(this_b))\n",
    "    \n",
    "all_r = np.asarray(all_r)\n",
    "all_b = np.asarray(all_b)"
   ]
  },
  {
   "cell_type": "code",
   "execution_count": 23,
   "id": "53158a7b-01ae-4c15-af63-f2b7edc3283a",
   "metadata": {},
   "outputs": [
    {
     "data": {
      "image/png": "[encoded data removed]",
      "text/plain": [
       "<Figure size 170x170 with 4 Axes>"
      ]
     },
     "metadata": {},
     "output_type": "display_data"
    }
   ],
   "source": [
    "fig, ax = plt.subplots(2,2,figsize=(1.7, 1.7), height_ratios=(1,5), width_ratios=(5,1))\n",
    "\n",
    "# correation vs. slope scatter\n",
    "ax[1,0].scatter(all_r, all_b, color=color_getter(0), s=10)\n",
    "ax[1,0].plot((-0.6,0.3),(0,0),'k--')\n",
    "ax[1,0].plot((0,0),(-1.2,0.6),'k--')\n",
    "ax[1,0].set_xlabel('bias - bump correlation')\n",
    "ax[1,0].set_ylabel('slope')\n",
    "\n",
    "# Marginal distributions\n",
    "ax[0,0].hist(all_r, color=color_getter(0))\n",
    "ax[0,0].set_xlim(ax[1,0].get_xlim())\n",
    "ax[1,1].hist(all_b, orientation='horizontal', color=color_getter(0))\n",
    "ax[1,1].set_ylim(ax[1,0].get_ylim())\n",
    "\n",
    "# general axis pretiffication\n",
    "toggle_spines(ax[1,0],0,1,0,1)\n",
    "toggle_spines(ax[0,0],0,1,0,0)\n",
    "toggle_spines(ax[1,1],0,0,0,1)\n",
    "toggle_spines(ax[0,1],0,0,0,0)\n",
    "ax[0,0].set_xticks([])\n",
    "ax[1,1].set_yticks([])\n",
    "\n",
    "# stats\n",
    "_, p = wilcoxon(all_r[~np.isnan(all_r)])\n",
    "ax[1,0].text(-0.4, 0.25, 'correlation\\np = {:0.2e}'.format(p))\n",
    "\n",
    "plt.savefig('../svg/ed03_f.svg')\n",
    "plt.show()"
   ]
  }
 ],
 "metadata": {
  "kernelspec": {
   "display_name": "hd_pub_01",
   "language": "python",
   "name": "hd_pub_01"
  },
  "language_info": {
   "codemirror_mode": {
    "name": "ipython",
    "version": 3
   },
   "file_extension": ".py",
   "mimetype": "text/x-python",
   "name": "python",
   "nbconvert_exporter": "python",
   "pygments_lexer": "ipython3",
   "version": "3.10.15"
  }
 },
 "nbformat": 4,
 "nbformat_minor": 5
}
